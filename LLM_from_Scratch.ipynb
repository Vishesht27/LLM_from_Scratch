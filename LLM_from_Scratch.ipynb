{
  "nbformat": 4,
  "nbformat_minor": 0,
  "metadata": {
    "colab": {
      "provenance": [],
      "gpuType": "T4"
    },
    "kernelspec": {
      "name": "python3",
      "display_name": "Python 3"
    },
    "language_info": {
      "name": "python"
    },
    "accelerator": "GPU"
  },
  "cells": [
    {
      "cell_type": "markdown",
      "source": [
        "### Importing the dataset\n",
        "\n",
        "#### The wizard of OZ\n",
        "\n",
        "\n"
      ],
      "metadata": {
        "id": "OLR6yGYeXSPE"
      }
    },
    {
      "cell_type": "code",
      "execution_count": 1,
      "metadata": {
        "colab": {
          "base_uri": "https://localhost:8080/"
        },
        "id": "B73PlM9UU2x-",
        "outputId": "b6ed3e9d-f87a-4d19-d708-b13a429ada4a"
      },
      "outputs": [
        {
          "output_type": "stream",
          "name": "stdout",
          "text": [
            "--2023-10-12 05:53:57--  https://github.com/Infatoshi/fcc-intro-to-llms/blob/main/wizard_of_oz.txt\n",
            "Resolving github.com (github.com)... 20.27.177.113\n",
            "Connecting to github.com (github.com)|20.27.177.113|:443... connected.\n",
            "HTTP request sent, awaiting response... 200 OK\n",
            "Length: 277602 (271K) [text/plain]\n",
            "Saving to: ‘wizard_of_oz.txt’\n",
            "\n",
            "wizard_of_oz.txt    100%[===================>] 271.10K  1.36MB/s    in 0.2s    \n",
            "\n",
            "2023-10-12 05:53:57 (1.36 MB/s) - ‘wizard_of_oz.txt’ saved [277602/277602]\n",
            "\n"
          ]
        }
      ],
      "source": [
        "!wget https://github.com/Infatoshi/fcc-intro-to-llms/blob/main/wizard_of_oz.txt"
      ]
    },
    {
      "cell_type": "code",
      "source": [
        "with open('wizard_of_oz.txt','r',encoding='utf-8') as f:\n",
        "    text = f.read()\n",
        "chars = sorted(set(text))\n",
        "print(chars)"
      ],
      "metadata": {
        "colab": {
          "base_uri": "https://localhost:8080/"
        },
        "id": "2dEyUUNYWWZX",
        "outputId": "a5abce02-081f-4995-fe22-9d100d749236"
      },
      "execution_count": 2,
      "outputs": [
        {
          "output_type": "stream",
          "name": "stdout",
          "text": [
            "[' ', '!', '\"', '%', '&', \"'\", '(', ')', '*', ',', '-', '.', '/', '0', '1', '2', '3', '4', '5', '6', '7', '8', '9', ':', ';', '=', '?', 'A', 'B', 'C', 'D', 'E', 'F', 'G', 'H', 'I', 'J', 'K', 'L', 'M', 'N', 'O', 'P', 'Q', 'R', 'S', 'T', 'U', 'V', 'W', 'X', 'Y', 'Z', '[', '\\\\', ']', '_', 'a', 'b', 'c', 'd', 'e', 'f', 'g', 'h', 'i', 'j', 'k', 'l', 'm', 'n', 'o', 'p', 'q', 'r', 's', 't', 'u', 'v', 'w', 'x', 'y', 'z', '{', '}', '·', '\\ufeff']\n"
          ]
        }
      ]
    },
    {
      "cell_type": "code",
      "source": [
        "vocab_size = len(chars)\n",
        "print(vocab_size)"
      ],
      "metadata": {
        "colab": {
          "base_uri": "https://localhost:8080/"
        },
        "id": "eTnS2hQZXJRY",
        "outputId": "c09fe991-4b34-480f-db7c-12a3076453c6"
      },
      "execution_count": 3,
      "outputs": [
        {
          "output_type": "stream",
          "name": "stdout",
          "text": [
            "87\n"
          ]
        }
      ]
    },
    {
      "cell_type": "markdown",
      "source": [
        "### Importing the libraries and modules"
      ],
      "metadata": {
        "id": "UMRPza19XecG"
      }
    },
    {
      "cell_type": "code",
      "source": [
        "import torch\n",
        "import torch.nn as nn\n",
        "from torch.nn import functional as F"
      ],
      "metadata": {
        "id": "bzAItP14Xhce"
      },
      "execution_count": 4,
      "outputs": []
    },
    {
      "cell_type": "markdown",
      "source": [
        "### Setting up the device"
      ],
      "metadata": {
        "id": "g6DpHO8YORDU"
      }
    },
    {
      "cell_type": "code",
      "source": [
        "device = 'cuda' if torch.cuda.is_available else 'cpu'\n",
        "print(device)"
      ],
      "metadata": {
        "colab": {
          "base_uri": "https://localhost:8080/"
        },
        "id": "D_WnED5QOjEv",
        "outputId": "17359aee-f21a-473c-e100-57fafaa79217"
      },
      "execution_count": 5,
      "outputs": [
        {
          "output_type": "stream",
          "name": "stdout",
          "text": [
            "cuda\n"
          ]
        }
      ]
    },
    {
      "cell_type": "markdown",
      "source": [
        "### Setting up final keywords"
      ],
      "metadata": {
        "id": "WfWFAe87O_G7"
      }
    },
    {
      "cell_type": "code",
      "source": [
        "batch_size = 32\n",
        "block_size = 128\n",
        "max_iters = 3000\n",
        "learning_rate = 3e-4\n",
        "eval_iters = 50\n",
        "n_embd = 384\n",
        "n_head = 4\n",
        "n_layer = 4\n",
        "dropout = 0.2"
      ],
      "metadata": {
        "id": "HTJgFjcKPCSt"
      },
      "execution_count": 6,
      "outputs": []
    },
    {
      "cell_type": "markdown",
      "source": [
        "### Encoding and decoding the string"
      ],
      "metadata": {
        "id": "T0SFUyzJYkpG"
      }
    },
    {
      "cell_type": "code",
      "source": [
        "string_to_int = {ch:i for i,ch in enumerate(chars)}\n",
        "int_to_string = {i:ch for i,ch in enumerate(chars)}\n",
        "\n",
        "encode = lambda s : [string_to_int[c] for c in s]\n",
        "decode = lambda l : ''.join([int_to_string[i] for i in l])\n",
        "\n",
        "# encoded_hello = encode('bhalu')\n",
        "# decoded_hello = decode(encoded_hello)\n",
        "\n",
        "# print(encoded_hello)\n",
        "# print(decoded_hello)"
      ],
      "metadata": {
        "id": "YFH9BAcEYmvH"
      },
      "execution_count": 7,
      "outputs": []
    },
    {
      "cell_type": "code",
      "source": [
        "data = torch.tensor(encode(text),dtype=torch.long)\n",
        "print(data[:100])"
      ],
      "metadata": {
        "colab": {
          "base_uri": "https://localhost:8080/"
        },
        "id": "DkE5iRQkLfnp",
        "outputId": "2342fb25-d97d-414a-fafd-63199a433475"
      },
      "execution_count": 8,
      "outputs": [
        {
          "output_type": "stream",
          "name": "stdout",
          "text": [
            "tensor([83,  2, 72, 57, 81, 68, 71, 57, 60,  2, 23, 83,  2, 57, 68, 68, 45, 64,\n",
            "        71, 74, 76, 59, 77, 76, 75, 31, 70, 57, 58, 68, 61, 60,  2, 23, 62, 57,\n",
            "        68, 75, 61,  9,  2, 62, 65, 68, 61, 46, 74, 61, 61,  2, 23, 83,  2,  2,\n",
            "        23, 83,  2, 65, 76, 61, 69, 75,  2, 23, 53, 83,  2, 70, 57, 69, 61,  2,\n",
            "        23,  2, 44, 31, 27, 30, 39, 31, 11, 69, 60,  2,  9,  2, 72, 57, 76, 64,\n",
            "         2, 23,  2, 44, 31, 27, 30, 39, 31, 11])\n"
          ]
        }
      ]
    },
    {
      "cell_type": "code",
      "source": [
        "n = int(len(data)*0.9)\n",
        "train_data = data[:n]\n",
        "test_data = data[n:]"
      ],
      "metadata": {
        "id": "pvuVMLp_OR7a"
      },
      "execution_count": 9,
      "outputs": []
    },
    {
      "cell_type": "code",
      "source": [
        "def get_batch(split):\n",
        "    data = train_data if split == 'train' else test_data\n",
        "    ix = torch.randint(len(data) - block_size,(batch_size,))\n",
        "    # print(ix)\n",
        "    x = torch.stack([data[i:i+block_size] for i in ix])\n",
        "    y = torch.stack([data[i+1:i+block_size+1] for i in ix])\n",
        "    x,y = x.to(device), y.to(device)\n",
        "    return x,y"
      ],
      "metadata": {
        "id": "5wJx-0xC4Cq2"
      },
      "execution_count": 10,
      "outputs": []
    },
    {
      "cell_type": "code",
      "source": [
        "@torch.no_grad()\n",
        "def estimate_loss():\n",
        "    out = {}\n",
        "    model.eval()\n",
        "    for split in ['train', 'val']:\n",
        "        losses = torch.zeros(eval_iters)\n",
        "        for k in range(eval_iters):\n",
        "            X, Y = get_batch(split)\n",
        "            logits, loss = model(X, Y)\n",
        "            losses[k] = loss.item()\n",
        "        out[split] = losses.mean()\n",
        "    model.train()\n",
        "    return out"
      ],
      "metadata": {
        "id": "uK8OPskleeF8"
      },
      "execution_count": null,
      "outputs": []
    },
    {
      "cell_type": "code",
      "source": [
        "class Head(nn.Module):\n",
        "    \"\"\" one head of self-attention \"\"\"\n",
        "\n",
        "    def __init__(self, head_size):\n",
        "        super().__init__()\n",
        "        self.key = nn.Linear(n_embd, head_size, bias=False)\n",
        "        self.query = nn.Linear(n_embd, head_size, bias=False)\n",
        "        self.value = nn.Linear(n_embd, head_size, bias=False)\n",
        "        self.register_buffer('tril', torch.tril(torch.ones(block_size, block_size)))\n",
        "\n",
        "        self.dropout = nn.Dropout(dropout)\n",
        "\n",
        "    def forward(self, x):\n",
        "        # input of size (batch, time-step, channels)\n",
        "        # output of size (batch, time-step, head size)\n",
        "        B,T,C = x.shape\n",
        "        k = self.key(x)   # (B,T,hs)\n",
        "        q = self.query(x) # (B,T,hs)\n",
        "        # compute attention scores (\"affinities\")\n",
        "        wei = q @ k.transpose(-2,-1) * k.shape[-1]**-0.5 # (B, T, hs) @ (B, hs, T) -> (B, T, T)\n",
        "        wei = wei.masked_fill(self.tril[:T, :T] == 0, float('-inf')) # (B, T, T)\n",
        "        wei = F.softmax(wei, dim=-1) # (B, T, T)\n",
        "        wei = self.dropout(wei)\n",
        "        # perform the weighted aggregation of the values\n",
        "        v = self.value(x) # (B,T,hs)\n",
        "        out = wei @ v # (B, T, T) @ (B, T, hs) -> (B, T, hs)\n",
        "        return out\n",
        "\n",
        "# [1, 0, 0]\n",
        "# [1, 0.6, 0]\n",
        "# [1, 0.6, 0.4]\n",
        "class MultiHeadAttention(nn.Module):\n",
        "    \"\"\" multiple heads of self-attention in parallel \"\"\"\n",
        "\n",
        "    def __init__(self, num_heads, head_size):\n",
        "        super().__init__()\n",
        "        self.heads = nn.ModuleList([Head(head_size) for _ in range(num_heads)])\n",
        "        self.proj = nn.Linear(head_size * num_heads, n_embd)\n",
        "        self.dropout = nn.Dropout(dropout)\n",
        "\n",
        "    def forward(self, x):\n",
        "        out = torch.cat([h(x) for h in self.heads], dim=-1) # (B, T, F) -> (B, T, [h1, h1, h1, h1, h2, h2, h2, h2, h3, h3, h3, h3])\n",
        "        out = self.dropout(self.proj(out))\n",
        "        return out\n",
        "\n",
        "\n",
        "class FeedFoward(nn.Module):\n",
        "    \"\"\" a simple linear layer followed by a non-linearity \"\"\"\n",
        "\n",
        "    def __init__(self, n_embd):\n",
        "        super().__init__()\n",
        "        self.net = nn.Sequential(\n",
        "            nn.Linear(n_embd, 4 * n_embd),\n",
        "            nn.ReLU(),\n",
        "            nn.Linear(4 * n_embd, n_embd),\n",
        "            nn.Dropout(dropout),\n",
        "        )\n",
        "\n",
        "    def forward(self, x):\n",
        "        return self.net(x)\n",
        "\n",
        "class Block(nn.Module):\n",
        "    \"\"\" Transformer block: communication followed by computation \"\"\"\n",
        "\n",
        "    def __init__(self, n_embd, n_head):\n",
        "        # n_embd: embedding dimension, n_head: the number of heads we'd like\n",
        "        super().__init__()\n",
        "        head_size = n_embd // n_head\n",
        "        self.sa = MultiHeadAttention(n_head, head_size)\n",
        "        self.ffwd = FeedFoward(n_embd)\n",
        "        self.ln1 = nn.LayerNorm(n_embd)\n",
        "        self.ln2 = nn.LayerNorm(n_embd)\n",
        "\n",
        "    def forward(self, x):\n",
        "        y = self.sa(x)\n",
        "        x = self.ln1(x + y)\n",
        "        y = self.ffwd(x)\n",
        "        x = self.ln2(x + y)\n",
        "        return x\n",
        "\n",
        "class GPTLanguageModel(nn.Module):\n",
        "    def __init__(self, vocab_size):\n",
        "        super().__init__()\n",
        "        self.token_embedding_table = nn.Embedding(vocab_size, n_embd)\n",
        "        self.position_embedding_table = nn.Embedding(block_size, n_embd)\n",
        "        self.blocks = nn.Sequential(*[Block(n_embd, n_head=n_head) for _ in range(n_layer)])\n",
        "        self.ln_f = nn.LayerNorm(n_embd) # final layer norm\n",
        "        self.lm_head = nn.Linear(n_embd, vocab_size)\n",
        "\n",
        "\n",
        "        self.apply(self._init_weights)\n",
        "\n",
        "    def _init_weights(self, module):\n",
        "        if isinstance(module, nn.Linear):\n",
        "            torch.nn.init.normal_(module.weight, mean=0.0, std=0.02)\n",
        "            if module.bias is not None:\n",
        "                torch.nn.init.zeros_(module.bias)\n",
        "        elif isinstance(module, nn.Embedding):\n",
        "            torch.nn.init.normal_(module.weight, mean=0.0, std=0.02)\n",
        "\n",
        "    def forward(self, index, targets=None):\n",
        "        B, T = index.shape\n",
        "\n",
        "\n",
        "        # idx and targets are both (B,T) tensor of integers\n",
        "        tok_emb = self.token_embedding_table(index) # (B,T,C)\n",
        "        pos_emb = self.position_embedding_table(torch.arange(T, device=device)) # (T,C)\n",
        "        x = tok_emb + pos_emb # (B,T,C)\n",
        "        x = self.blocks(x) # (B,T,C)\n",
        "        x = self.ln_f(x) # (B,T,C)\n",
        "        logits = self.lm_head(x) # (B,T,vocab_size)\n",
        "\n",
        "        if targets is None:\n",
        "            loss = None\n",
        "        else:\n",
        "            B, T, C = logits.shape\n",
        "            logits = logits.view(B*T, C)\n",
        "            targets = targets.view(B*T)\n",
        "            loss = F.cross_entropy(logits, targets)\n",
        "\n",
        "        return logits, loss\n",
        "\n",
        "    def generate(self, index, max_new_tokens):\n",
        "        # index is (B, T) array of indices in the current context\n",
        "        for _ in range(max_new_tokens):\n",
        "            # crop idx to the last block_size tokens\n",
        "            index_cond = index[:, -block_size:]\n",
        "            # get the predictions\n",
        "            logits, loss = self.forward(index_cond)\n",
        "            # focus only on the last time step\n",
        "            logits = logits[:, -1, :] # becomes (B, C)\n",
        "            # apply softmax to get probabilities\n",
        "            probs = F.softmax(logits, dim=-1) # (B, C)\n",
        "            # sample from the distribution\n",
        "            index_next = torch.multinomial(probs, num_samples=1) # (B, 1)\n",
        "            # append sampled index to the running sequence\n",
        "            index = torch.cat((index, index_next), dim=1) # (B, T+1)\n",
        "        return index\n",
        "\n",
        "model = GPTLanguageModel(vocab_size)\n",
        "# print('loading model parameters...')\n",
        "# with open('model-01.pkl', 'rb') as f:\n",
        "#     model = pickle.load(f)\n",
        "# print('loaded successfully!')\n",
        "m = model.to(device)"
      ],
      "metadata": {
        "id": "HCuj5Ckw7NI6"
      },
      "execution_count": 14,
      "outputs": []
    },
    {
      "cell_type": "code",
      "source": [
        "optimizer = torch.optim.AdamW(model.parameters(),lr=learning_rate)\n",
        "\n",
        "for iter in range(max_iters):\n",
        "    # print(iter)\n",
        "    if iter % eval_iters == 0:\n",
        "        losses = estimate_loss()\n",
        "        print(f\"step: {iter}, train loss: {losses['train']:.3f}, val loss: {losses['val']:.3f}\")\n",
        "\n",
        "    # sample a batch of data\n",
        "    xb, yb = get_batch('train')\n",
        "\n",
        "    # evaluate the loss\n",
        "    logits, loss = model.forward(xb,yb)\n",
        "    optimizer.zero_grad(set_to_none=True)\n",
        "    loss.backward()\n",
        "    optimizer.step()\n",
        "\n",
        "print(loss.item())"
      ],
      "metadata": {
        "colab": {
          "base_uri": "https://localhost:8080/"
        },
        "id": "QzDU4OW8cWAI",
        "outputId": "f6793db2-9a3b-4ab1-e70f-c75e5325bdfa"
      },
      "execution_count": 15,
      "outputs": [
        {
          "output_type": "stream",
          "name": "stdout",
          "text": [
            "step: 0, train loss: 4.579, val loss: 4.737\n",
            "step: 50, train loss: 2.407, val loss: 4.657\n",
            "step: 100, train loss: 2.295, val loss: 4.699\n",
            "step: 150, train loss: 2.205, val loss: 4.489\n",
            "step: 200, train loss: 2.104, val loss: 4.490\n",
            "step: 250, train loss: 1.994, val loss: 4.896\n",
            "step: 300, train loss: 1.909, val loss: 4.926\n",
            "step: 350, train loss: 1.813, val loss: 5.151\n",
            "step: 400, train loss: 1.747, val loss: 4.860\n",
            "step: 450, train loss: 1.687, val loss: 5.021\n",
            "step: 500, train loss: 1.641, val loss: 5.275\n",
            "step: 550, train loss: 1.579, val loss: 4.731\n",
            "step: 600, train loss: 1.536, val loss: 4.387\n",
            "step: 650, train loss: 1.509, val loss: 5.117\n",
            "step: 700, train loss: 1.479, val loss: 4.889\n",
            "step: 750, train loss: 1.445, val loss: 4.519\n",
            "step: 800, train loss: 1.426, val loss: 4.942\n",
            "step: 850, train loss: 1.401, val loss: 4.567\n",
            "step: 900, train loss: 1.389, val loss: 4.700\n",
            "step: 950, train loss: 1.353, val loss: 4.178\n",
            "step: 1000, train loss: 1.336, val loss: 4.063\n",
            "step: 1050, train loss: 1.316, val loss: 4.042\n",
            "step: 1100, train loss: 1.288, val loss: 4.323\n",
            "step: 1150, train loss: 1.288, val loss: 4.378\n",
            "step: 1200, train loss: 1.271, val loss: 3.900\n",
            "step: 1250, train loss: 1.260, val loss: 4.227\n",
            "step: 1300, train loss: 1.240, val loss: 4.622\n",
            "step: 1350, train loss: 1.229, val loss: 4.340\n",
            "step: 1400, train loss: 1.213, val loss: 3.441\n",
            "step: 1450, train loss: 1.212, val loss: 3.940\n",
            "step: 1500, train loss: 1.192, val loss: 4.104\n",
            "step: 1550, train loss: 1.177, val loss: 3.953\n",
            "step: 1600, train loss: 1.171, val loss: 4.518\n",
            "step: 1650, train loss: 1.159, val loss: 4.711\n",
            "step: 1700, train loss: 1.155, val loss: 4.066\n",
            "step: 1750, train loss: 1.154, val loss: 3.960\n",
            "step: 1800, train loss: 1.134, val loss: 4.112\n",
            "step: 1850, train loss: 1.129, val loss: 4.194\n",
            "step: 1900, train loss: 1.120, val loss: 4.597\n",
            "step: 1950, train loss: 1.109, val loss: 4.629\n",
            "step: 2000, train loss: 1.105, val loss: 4.712\n",
            "step: 2050, train loss: 1.094, val loss: 4.710\n",
            "step: 2100, train loss: 1.088, val loss: 4.371\n",
            "step: 2150, train loss: 1.075, val loss: 4.035\n",
            "step: 2200, train loss: 1.073, val loss: 4.465\n",
            "step: 2250, train loss: 1.066, val loss: 4.263\n",
            "step: 2300, train loss: 1.071, val loss: 4.059\n",
            "step: 2350, train loss: 1.052, val loss: 3.731\n",
            "step: 2400, train loss: 1.052, val loss: 4.202\n",
            "step: 2450, train loss: 1.037, val loss: 4.404\n",
            "step: 2500, train loss: 1.038, val loss: 4.059\n",
            "step: 2550, train loss: 1.028, val loss: 3.820\n",
            "step: 2600, train loss: 1.026, val loss: 3.874\n",
            "step: 2650, train loss: 1.013, val loss: 4.272\n",
            "step: 2700, train loss: 1.003, val loss: 4.239\n",
            "step: 2750, train loss: 1.008, val loss: 3.698\n",
            "step: 2800, train loss: 1.000, val loss: 3.939\n",
            "step: 2850, train loss: 0.983, val loss: 4.337\n",
            "step: 2900, train loss: 0.990, val loss: 4.299\n",
            "step: 2950, train loss: 0.975, val loss: 4.430\n",
            "1.073872447013855\n"
          ]
        }
      ]
    },
    {
      "cell_type": "code",
      "source": [
        "context = torch.zeros((1,1), dtype=torch.long,device = device)\n",
        "generated_chars = decode(m.generate(context,max_new_tokens=500)[0].tolist())\n",
        "print(generated_chars)"
      ],
      "metadata": {
        "id": "g-xxkRPCXQuu",
        "colab": {
          "base_uri": "https://localhost:8080/"
        },
        "outputId": "ce471c61-cf6f-41d3-b345-7472bde39f89"
      },
      "execution_count": 16,
      "outputs": [
        {
          "output_type": "stream",
          "name": "stdout",
          "text": [
            " ready, what all,\\\"\\\"Verythings, and were all then put she hard no wisheed him; but\\r\",\"for Jim hungry to left the kitten. The children aft love they braided to\\r\",\"in the jumpts they had ever now floor moment.\\r\",\"\\r\",\"The rought to the escaped upon the say,\\\" wre a things could  has\\r\",\"found into this turn, so had the center do not back in the cortain-tone;\\r\",\"these Eureka, and he performer and they had ewented the Wizard.\\r\",\"\\r\",\"Jusid then, was carry and the knobing and sconside his the ti\n"
          ]
        }
      ]
    },
    {
      "cell_type": "code",
      "source": [
        "prompt = \"Hello ! Can you see me?\"\n",
        "context = torch.tensor(encode(prompt),dtype=torch.long,device=device)\n",
        "generated_chars = decode(m.generate(context.unsqueeze(0),max_new_tokens=100)[0].tolist())\n",
        "print(generated_chars)"
      ],
      "metadata": {
        "colab": {
          "base_uri": "https://localhost:8080/"
        },
        "id": "hyXbcXRBeMEF",
        "outputId": "94cfbfec-4022-464d-9bec-d07f1552ede7"
      },
      "execution_count": 18,
      "outputs": [
        {
          "output_type": "stream",
          "name": "stdout",
          "text": [
            "Hello ! Can you see me?\\\"\\r\",\"\\r\",\"\\\"Do you me? O-NGUT KEur, if we are partied; ourselful geoDoroal slo,\\r\",\"criened in a t\n"
          ]
        }
      ]
    }
  ]
}